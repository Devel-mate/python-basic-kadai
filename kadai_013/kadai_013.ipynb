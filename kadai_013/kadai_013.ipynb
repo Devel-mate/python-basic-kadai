{
  "nbformat": 4,
  "nbformat_minor": 0,
  "metadata": {
    "colab": {
      "provenance": []
    },
    "kernelspec": {
      "name": "python3",
      "display_name": "Python 3"
    },
    "language_info": {
      "name": "python"
    }
  },
  "cells": [
    {
      "cell_type": "code",
      "execution_count": 3,
      "metadata": {
        "colab": {
          "base_uri": "https://localhost:8080/"
        },
        "id": "MdBvqgqEgIal",
        "outputId": "e164c376-7be7-4cea-d321-02f408961810"
      },
      "outputs": [
        {
          "output_type": "stream",
          "name": "stdout",
          "text": [
            "110.0\n"
          ]
        }
      ],
      "source": [
        "def total(price, tax):\n",
        "    print(price + (price * tax))\n",
        "\n",
        "total(100, 0.10)"
      ]
    }
  ]
}