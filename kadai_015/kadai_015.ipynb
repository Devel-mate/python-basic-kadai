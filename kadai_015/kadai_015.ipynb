{
  "nbformat": 4,
  "nbformat_minor": 0,
  "metadata": {
    "colab": {
      "provenance": []
    },
    "kernelspec": {
      "name": "python3",
      "display_name": "Python 3"
    },
    "language_info": {
      "name": "python"
    }
  },
  "cells": [
    {
      "cell_type": "code",
      "execution_count": 16,
      "metadata": {
        "colab": {
          "base_uri": "https://localhost:8080/"
        },
        "id": "4FAlPRFvLi-e",
        "outputId": "1dfefdfd-1f4d-4f29-e4cd-b4d0f1d0aff9"
      },
      "outputs": [
        {
          "output_type": "stream",
          "name": "stdout",
          "text": [
            "侍太郎 36\n"
          ]
        }
      ],
      "source": [
        "# クラスを定義する\n",
        "class Human:\n",
        "\n",
        "    # コンストラクタを定義する\n",
        "    def __init__(self, name, age):\n",
        "        self.name = name\n",
        "        self.age = age\n",
        "\n",
        "    # メソッドを定義する\n",
        "    def printinfo(self):\n",
        "        print(self.name, self.age)\n",
        "\n",
        "# インスタンス化する\n",
        "human1 = Human(\"侍太郎\", 36)\n",
        "\n",
        "# メソッドにアクセスし、値を出力する\n",
        "human1.printinfo()"
      ]
    }
  ]
}