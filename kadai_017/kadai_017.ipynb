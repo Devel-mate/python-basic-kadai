{
  "nbformat": 4,
  "nbformat_minor": 0,
  "metadata": {
    "colab": {
      "provenance": []
    },
    "kernelspec": {
      "name": "python3",
      "display_name": "Python 3"
    },
    "language_info": {
      "name": "python"
    }
  },
  "cells": [
    {
      "cell_type": "code",
      "execution_count": 16,
      "metadata": {
        "id": "zk_jQ5yHNTFT",
        "colab": {
          "base_uri": "https://localhost:8080/"
        },
        "outputId": "705d41e6-a5bf-4df8-de5a-3156ec1d8883"
      },
      "outputs": [
        {
          "output_type": "stream",
          "name": "stdout",
          "text": [
            "侍太郎は大人です。\n",
            "侍花子は大人ではないです。\n",
            "侍一郎は大人です。\n",
            "侍二郎は大人ではないです。\n"
          ]
        }
      ],
      "source": [
        "from os import name\n",
        "# クラスを定義する\n",
        "class Human:\n",
        "\n",
        "    # コンストラクタを定義する\n",
        "    def __init__(self, name, age):\n",
        "        self.name = name\n",
        "        self.age = age\n",
        "\n",
        "    # メソッドを定義する\n",
        "    def check_adult(self):\n",
        "        if (self.age >= 20):\n",
        "            print(f\"{self.name}は大人です。\")\n",
        "        else:\n",
        "            print(f\"{self.name}は大人ではないです。\")\n",
        "\n",
        "# インスタンス化する\n",
        "human1 = Human(\"侍太郎\", 36)\n",
        "human2 = Human(\"侍花子\", 18)\n",
        "human3 = Human(\"侍一郎\", 24)\n",
        "human4 = Human(\"侍二郎\", 15)\n",
        "\n",
        "# リストを定義する\n",
        "humans = [human1, human2, human3, human4]\n",
        "\n",
        "# メソッドにアクセスし、値を出力する\n",
        "for human in humans:\n",
        "    human.check_adult()\n"
      ]
    }
  ]
}